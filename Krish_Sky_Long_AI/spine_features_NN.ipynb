{
 "cells": [
  {
   "cell_type": "code",
   "execution_count": 1,
   "id": "2e566d24",
   "metadata": {},
   "outputs": [],
   "source": [
    "# NN for age prediction\n",
    "\n",
    "import pandas as pd\n",
    "import numpy as np\n",
    "import matplotlib.pyplot as plt\n",
    "from sklearn.model_selection import train_test_split\n",
    "from sklearn.preprocessing import StandardScaler\n",
    "import torch\n",
    "import torch.nn as nn\n",
    "import torch.nn.functional as F"
   ]
  },
  {
   "cell_type": "code",
   "execution_count": 2,
   "id": "b249468b",
   "metadata": {},
   "outputs": [
    {
     "name": "stdout",
     "output_type": "stream",
     "text": [
      "   age sex  texture_score  edge_score  shape_score\n",
      "0    6   F       5.428603    0.796251     4.701439\n",
      "1   10   F       5.569553    0.583567     5.067939\n",
      "2   13   F       5.452931    0.719179     4.386277\n",
      "3   25   F       4.322031    0.330064     4.552385\n",
      "4   31   F       5.805200    0.748549     4.920593\n"
     ]
    }
   ],
   "source": [
    "df = pd.read_csv('/Users/krishshah/Desktop/Krish_Sky_Long_AI/spine_texture_analysis.csv')\n",
    "print(df.head())"
   ]
  },
  {
   "cell_type": "code",
   "execution_count": 3,
   "id": "0ab3a680",
   "metadata": {},
   "outputs": [
    {
     "data": {
      "application/vnd.microsoft.datawrangler.viewer.v0+json": {
       "columns": [
        {
         "name": "index",
         "rawType": "int64",
         "type": "integer"
        },
        {
         "name": "age",
         "rawType": "int64",
         "type": "integer"
        },
        {
         "name": "texture_score",
         "rawType": "float64",
         "type": "float"
        },
        {
         "name": "edge_score",
         "rawType": "float64",
         "type": "float"
        },
        {
         "name": "shape_score",
         "rawType": "float64",
         "type": "float"
        }
       ],
       "ref": "fe873dbe-5e7a-42f4-bacd-3e26db1cec5d",
       "rows": [
        [
         "0",
         "1",
         "5.428603",
         "0.79625076",
         "4.7014394"
        ],
        [
         "1",
         "2",
         "5.569553",
         "0.5835672",
         "5.067939"
        ],
        [
         "2",
         "2",
         "5.452931",
         "0.71917856",
         "4.3862767"
        ],
        [
         "3",
         "5",
         "4.322031",
         "0.330064",
         "4.5523853"
        ],
        [
         "4",
         "6",
         "5.8052",
         "0.74854934",
         "4.9205933"
        ],
        [
         "5",
         "7",
         "6.1991634",
         "0.34232706",
         "5.12816"
        ],
        [
         "6",
         "7",
         "4.277627",
         "0.114491425",
         "5.118457"
        ],
        [
         "7",
         "12",
         "4.5461907",
         "0.12656587",
         "5.264554"
        ],
        [
         "8",
         "15",
         "4.7633634",
         "0.20714706",
         "4.9715405"
        ]
       ],
       "shape": {
        "columns": 4,
        "rows": 9
       }
      },
      "text/html": [
       "<div>\n",
       "<style scoped>\n",
       "    .dataframe tbody tr th:only-of-type {\n",
       "        vertical-align: middle;\n",
       "    }\n",
       "\n",
       "    .dataframe tbody tr th {\n",
       "        vertical-align: top;\n",
       "    }\n",
       "\n",
       "    .dataframe thead th {\n",
       "        text-align: right;\n",
       "    }\n",
       "</style>\n",
       "<table border=\"1\" class=\"dataframe\">\n",
       "  <thead>\n",
       "    <tr style=\"text-align: right;\">\n",
       "      <th></th>\n",
       "      <th>age</th>\n",
       "      <th>texture_score</th>\n",
       "      <th>edge_score</th>\n",
       "      <th>shape_score</th>\n",
       "    </tr>\n",
       "  </thead>\n",
       "  <tbody>\n",
       "    <tr>\n",
       "      <th>0</th>\n",
       "      <td>1</td>\n",
       "      <td>5.428603</td>\n",
       "      <td>0.796251</td>\n",
       "      <td>4.701439</td>\n",
       "    </tr>\n",
       "    <tr>\n",
       "      <th>1</th>\n",
       "      <td>2</td>\n",
       "      <td>5.569553</td>\n",
       "      <td>0.583567</td>\n",
       "      <td>5.067939</td>\n",
       "    </tr>\n",
       "    <tr>\n",
       "      <th>2</th>\n",
       "      <td>2</td>\n",
       "      <td>5.452931</td>\n",
       "      <td>0.719179</td>\n",
       "      <td>4.386277</td>\n",
       "    </tr>\n",
       "    <tr>\n",
       "      <th>3</th>\n",
       "      <td>5</td>\n",
       "      <td>4.322031</td>\n",
       "      <td>0.330064</td>\n",
       "      <td>4.552385</td>\n",
       "    </tr>\n",
       "    <tr>\n",
       "      <th>4</th>\n",
       "      <td>6</td>\n",
       "      <td>5.805200</td>\n",
       "      <td>0.748549</td>\n",
       "      <td>4.920593</td>\n",
       "    </tr>\n",
       "    <tr>\n",
       "      <th>5</th>\n",
       "      <td>7</td>\n",
       "      <td>6.199163</td>\n",
       "      <td>0.342327</td>\n",
       "      <td>5.128160</td>\n",
       "    </tr>\n",
       "    <tr>\n",
       "      <th>6</th>\n",
       "      <td>7</td>\n",
       "      <td>4.277627</td>\n",
       "      <td>0.114491</td>\n",
       "      <td>5.118457</td>\n",
       "    </tr>\n",
       "    <tr>\n",
       "      <th>7</th>\n",
       "      <td>12</td>\n",
       "      <td>4.546191</td>\n",
       "      <td>0.126566</td>\n",
       "      <td>5.264554</td>\n",
       "    </tr>\n",
       "    <tr>\n",
       "      <th>8</th>\n",
       "      <td>15</td>\n",
       "      <td>4.763363</td>\n",
       "      <td>0.207147</td>\n",
       "      <td>4.971540</td>\n",
       "    </tr>\n",
       "  </tbody>\n",
       "</table>\n",
       "</div>"
      ],
      "text/plain": [
       "   age  texture_score  edge_score  shape_score\n",
       "0    1       5.428603    0.796251     4.701439\n",
       "1    2       5.569553    0.583567     5.067939\n",
       "2    2       5.452931    0.719179     4.386277\n",
       "3    5       4.322031    0.330064     4.552385\n",
       "4    6       5.805200    0.748549     4.920593\n",
       "5    7       6.199163    0.342327     5.128160\n",
       "6    7       4.277627    0.114491     5.118457\n",
       "7   12       4.546191    0.126566     5.264554\n",
       "8   15       4.763363    0.207147     4.971540"
      ]
     },
     "execution_count": 3,
     "metadata": {},
     "output_type": "execute_result"
    }
   ],
   "source": [
    "# dataframe cleaning\n",
    "df = df.dropna()  # Drop rows with missing values\n",
    "df = df[df['sex'] == 'F']  # Remove rows with non-positive ages\n",
    "df['age'] = df['age']//5\n",
    "df.drop(columns=['sex'], inplace=True)\n",
    "df"
   ]
  },
  {
   "cell_type": "code",
   "execution_count": 4,
   "id": "6d64900f",
   "metadata": {},
   "outputs": [
    {
     "data": {
      "image/png": "[encoded data removed]",
      "text/plain": [
       "<Figure size 1000x600 with 1 Axes>"
      ]
     },
     "metadata": {},
     "output_type": "display_data"
    },
    {
     "data": {
      "image/png": "[encoded data removed]",
      "text/plain": [
       "<Figure size 1000x600 with 1 Axes>"
      ]
     },
     "metadata": {},
     "output_type": "display_data"
    },
    {
     "data": {
      "image/png": "[encoded data removed]",
      "text/plain": [
       "<Figure size 1000x600 with 1 Axes>"
      ]
     },
     "metadata": {},
     "output_type": "display_data"
    }
   ],
   "source": [
    "import matplotlib.pyplot as plt\n",
    "%matplotlib inline\n",
    "\n",
    "plt.figure(figsize=(10, 6))\n",
    "plt.scatter(df['age'], df['texture_score'], alpha=0.6, edgecolors='k')\n",
    "plt.title('Age vs. Texture Score')\n",
    "plt.xlabel('Age')\n",
    "plt.ylabel('Texture Score')\n",
    "plt.grid()\n",
    "plt.show()\n",
    "\n",
    "plt.figure(figsize=(10, 6))\n",
    "plt.scatter(df['age'], df['edge_score'], alpha=0.6, edgecolors='k')\n",
    "plt.title('Age vs. Edge Score')\n",
    "plt.xlabel('Age')\n",
    "plt.ylabel('Edge Score')\n",
    "plt.grid()\n",
    "plt.show()\n",
    "\n",
    "plt.figure(figsize=(10, 6))\n",
    "plt.scatter(df['age'], df['shape_score'], alpha=0.6, edgecolors='k')\n",
    "plt.title('Age vs. Shape Score')\n",
    "plt.xlabel('Age')\n",
    "plt.ylabel('Shape Score')\n",
    "plt.grid()\n",
    "plt.show()"
   ]
  },
  {
   "cell_type": "code",
   "execution_count": 5,
   "id": "9cb6dc7b",
   "metadata": {},
   "outputs": [],
   "source": [
    "class Model(nn.Module):\n",
    "  # input layer contains 3 inputs of the model\n",
    "  # 1st hidden layer (l1) will have 20 neurons\n",
    "  # 2nd hidden layer (l2) will have 20 neurons\n",
    "  # 3rd hidden layer (l3) will have 20 neurons\n",
    "  # output layer has 20 neurons to pick a seed class\n",
    "\n",
    "  def __init__(self, in_features=3, L1=20, L2=20, L3=20, out_features=20):\n",
    "    super().__init__() # inherites from the superclass (nn.Module)\n",
    "    self.fc1 = nn.Linear(in_features, L1) #fc1 = fully connected\n",
    "    self.fc2 = nn.Linear(L1, L2) # stars with input features, moving FORWARD to the next stage\n",
    "    self.fc3 = nn.Linear(L2, L3) # stars with input features, moving FORWARD to the next stage\n",
    "    self.out = nn.Linear(L3, out_features)\n",
    "\n",
    "  def forward(self, x):\n",
    "    x = F.relu(self.fc1(x)) # relu = rectified linear unit. If output<0, it is 0. if >0, then use the output\n",
    "    x = F.relu(self.fc2(x)) # moves the object forward\n",
    "    x = F.relu(self.fc3(x)) # moves the object forward\n",
    "    x = F.relu(self.out(x))"
   ]
  },
  {
   "cell_type": "code",
   "execution_count": 6,
   "id": "bcc6de88",
   "metadata": {},
   "outputs": [],
   "source": [
    "# Create random seed for randomisation\n",
    "torch.manual_seed(41)\n",
    "model = Model() # creates an instance of the Model class"
   ]
  },
  {
   "cell_type": "code",
   "execution_count": 7,
   "id": "afae7b09",
   "metadata": {},
   "outputs": [],
   "source": [
    "#train, test, split: set features (X) and targets (y)\n",
    "X = df.drop('age', axis = 1) # selects only the targets, axis (columns)\n",
    "y = df['age']\n",
    "\n",
    "#convert to numpy arrays\n",
    "X = X.values\n",
    "y = y.values"
   ]
  },
  {
   "cell_type": "code",
   "execution_count": 8,
   "id": "b865eaa2",
   "metadata": {},
   "outputs": [],
   "source": [
    "from sklearn.model_selection import train_test_split\n",
    "\n",
    "X_train, X_test, y_train, y_test = train_test_split(X, y, test_size = 0.2, random_state = 41) #80% train, 20% test"
   ]
  },
  {
   "cell_type": "code",
   "execution_count": 9,
   "id": "ebe14d22",
   "metadata": {},
   "outputs": [],
   "source": [
    "X_train = torch.FloatTensor(X_train) # converts numpy arrays to floatTensors (all features are decimals)\n",
    "X_test = torch.FloatTensor(X_test)\n",
    "y_train = torch.LongTensor(y_train) # converts numpy arrays to longTensors (all targets are integers)\n",
    "y_test = torch.LongTensor(y_test)"
   ]
  },
  {
   "cell_type": "code",
   "execution_count": 10,
   "id": "a1150742",
   "metadata": {},
   "outputs": [],
   "source": [
    "# set a criterion of the model to measure the error, to measure how far off the predictions are from the actual data\n",
    "criterion = nn.CrossEntropyLoss()\n",
    "# choose an optimiser - using Adam optimiser, lr (learning rate) = if learning rate does not go down through each iteration, it should be lowered to learn slower\n",
    "optimiser = torch.optim.Adam(model.parameters(), lr=0.01) # lower learning rate takes longer to train the model\n",
    "#model.parameters() are the layers: fc1, fc2, fc3, out"
   ]
  },
  {
   "cell_type": "code",
   "execution_count": 11,
   "id": "5fb1d9de",
   "metadata": {},
   "outputs": [
    {
     "ename": "TypeError",
     "evalue": "cross_entropy_loss(): argument 'input' (position 1) must be Tensor, not NoneType",
     "output_type": "error",
     "traceback": [
      "\u001b[31m---------------------------------------------------------------------------\u001b[39m",
      "\u001b[31mTypeError\u001b[39m                                 Traceback (most recent call last)",
      "\u001b[36mCell\u001b[39m\u001b[36m \u001b[39m\u001b[32mIn[11]\u001b[39m\u001b[32m, line 9\u001b[39m\n\u001b[32m      6\u001b[39m y_pred = model.forward(X_train) \u001b[38;5;66;03m# using the features to move forward and get predicitive results\u001b[39;00m\n\u001b[32m      8\u001b[39m \u001b[38;5;66;03m# Measure the loss\u001b[39;00m\n\u001b[32m----> \u001b[39m\u001b[32m9\u001b[39m loss = \u001b[43mcriterion\u001b[49m\u001b[43m(\u001b[49m\u001b[43my_pred\u001b[49m\u001b[43m,\u001b[49m\u001b[43m \u001b[49m\u001b[43my_train\u001b[49m\u001b[43m)\u001b[49m \u001b[38;5;66;03m# predicted value vs y-train value\u001b[39;00m\n\u001b[32m     10\u001b[39m losses.append(loss.detach().numpy())\n\u001b[32m     12\u001b[39m \u001b[38;5;28;01mif\u001b[39;00m i % \u001b[32m100\u001b[39m == \u001b[32m0\u001b[39m:\n",
      "\u001b[36mFile \u001b[39m\u001b[32m/Library/Frameworks/Python.framework/Versions/3.13/lib/python3.13/site-packages/torch/nn/modules/module.py:1751\u001b[39m, in \u001b[36mModule._wrapped_call_impl\u001b[39m\u001b[34m(self, *args, **kwargs)\u001b[39m\n\u001b[32m   1749\u001b[39m     \u001b[38;5;28;01mreturn\u001b[39;00m \u001b[38;5;28mself\u001b[39m._compiled_call_impl(*args, **kwargs)  \u001b[38;5;66;03m# type: ignore[misc]\u001b[39;00m\n\u001b[32m   1750\u001b[39m \u001b[38;5;28;01melse\u001b[39;00m:\n\u001b[32m-> \u001b[39m\u001b[32m1751\u001b[39m     \u001b[38;5;28;01mreturn\u001b[39;00m \u001b[38;5;28;43mself\u001b[39;49m\u001b[43m.\u001b[49m\u001b[43m_call_impl\u001b[49m\u001b[43m(\u001b[49m\u001b[43m*\u001b[49m\u001b[43margs\u001b[49m\u001b[43m,\u001b[49m\u001b[43m \u001b[49m\u001b[43m*\u001b[49m\u001b[43m*\u001b[49m\u001b[43mkwargs\u001b[49m\u001b[43m)\u001b[49m\n",
      "\u001b[36mFile \u001b[39m\u001b[32m/Library/Frameworks/Python.framework/Versions/3.13/lib/python3.13/site-packages/torch/nn/modules/module.py:1762\u001b[39m, in \u001b[36mModule._call_impl\u001b[39m\u001b[34m(self, *args, **kwargs)\u001b[39m\n\u001b[32m   1757\u001b[39m \u001b[38;5;66;03m# If we don't have any hooks, we want to skip the rest of the logic in\u001b[39;00m\n\u001b[32m   1758\u001b[39m \u001b[38;5;66;03m# this function, and just call forward.\u001b[39;00m\n\u001b[32m   1759\u001b[39m \u001b[38;5;28;01mif\u001b[39;00m \u001b[38;5;129;01mnot\u001b[39;00m (\u001b[38;5;28mself\u001b[39m._backward_hooks \u001b[38;5;129;01mor\u001b[39;00m \u001b[38;5;28mself\u001b[39m._backward_pre_hooks \u001b[38;5;129;01mor\u001b[39;00m \u001b[38;5;28mself\u001b[39m._forward_hooks \u001b[38;5;129;01mor\u001b[39;00m \u001b[38;5;28mself\u001b[39m._forward_pre_hooks\n\u001b[32m   1760\u001b[39m         \u001b[38;5;129;01mor\u001b[39;00m _global_backward_pre_hooks \u001b[38;5;129;01mor\u001b[39;00m _global_backward_hooks\n\u001b[32m   1761\u001b[39m         \u001b[38;5;129;01mor\u001b[39;00m _global_forward_hooks \u001b[38;5;129;01mor\u001b[39;00m _global_forward_pre_hooks):\n\u001b[32m-> \u001b[39m\u001b[32m1762\u001b[39m     \u001b[38;5;28;01mreturn\u001b[39;00m \u001b[43mforward_call\u001b[49m\u001b[43m(\u001b[49m\u001b[43m*\u001b[49m\u001b[43margs\u001b[49m\u001b[43m,\u001b[49m\u001b[43m \u001b[49m\u001b[43m*\u001b[49m\u001b[43m*\u001b[49m\u001b[43mkwargs\u001b[49m\u001b[43m)\u001b[49m\n\u001b[32m   1764\u001b[39m result = \u001b[38;5;28;01mNone\u001b[39;00m\n\u001b[32m   1765\u001b[39m called_always_called_hooks = \u001b[38;5;28mset\u001b[39m()\n",
      "\u001b[36mFile \u001b[39m\u001b[32m/Library/Frameworks/Python.framework/Versions/3.13/lib/python3.13/site-packages/torch/nn/modules/loss.py:1297\u001b[39m, in \u001b[36mCrossEntropyLoss.forward\u001b[39m\u001b[34m(self, input, target)\u001b[39m\n\u001b[32m   1296\u001b[39m \u001b[38;5;28;01mdef\u001b[39;00m\u001b[38;5;250m \u001b[39m\u001b[34mforward\u001b[39m(\u001b[38;5;28mself\u001b[39m, \u001b[38;5;28minput\u001b[39m: Tensor, target: Tensor) -> Tensor:\n\u001b[32m-> \u001b[39m\u001b[32m1297\u001b[39m     \u001b[38;5;28;01mreturn\u001b[39;00m \u001b[43mF\u001b[49m\u001b[43m.\u001b[49m\u001b[43mcross_entropy\u001b[49m\u001b[43m(\u001b[49m\n\u001b[32m   1298\u001b[39m \u001b[43m        \u001b[49m\u001b[38;5;28;43minput\u001b[39;49m\u001b[43m,\u001b[49m\n\u001b[32m   1299\u001b[39m \u001b[43m        \u001b[49m\u001b[43mtarget\u001b[49m\u001b[43m,\u001b[49m\n\u001b[32m   1300\u001b[39m \u001b[43m        \u001b[49m\u001b[43mweight\u001b[49m\u001b[43m=\u001b[49m\u001b[38;5;28;43mself\u001b[39;49m\u001b[43m.\u001b[49m\u001b[43mweight\u001b[49m\u001b[43m,\u001b[49m\n\u001b[32m   1301\u001b[39m \u001b[43m        \u001b[49m\u001b[43mignore_index\u001b[49m\u001b[43m=\u001b[49m\u001b[38;5;28;43mself\u001b[39;49m\u001b[43m.\u001b[49m\u001b[43mignore_index\u001b[49m\u001b[43m,\u001b[49m\n\u001b[32m   1302\u001b[39m \u001b[43m        \u001b[49m\u001b[43mreduction\u001b[49m\u001b[43m=\u001b[49m\u001b[38;5;28;43mself\u001b[39;49m\u001b[43m.\u001b[49m\u001b[43mreduction\u001b[49m\u001b[43m,\u001b[49m\n\u001b[32m   1303\u001b[39m \u001b[43m        \u001b[49m\u001b[43mlabel_smoothing\u001b[49m\u001b[43m=\u001b[49m\u001b[38;5;28;43mself\u001b[39;49m\u001b[43m.\u001b[49m\u001b[43mlabel_smoothing\u001b[49m\u001b[43m,\u001b[49m\n\u001b[32m   1304\u001b[39m \u001b[43m    \u001b[49m\u001b[43m)\u001b[49m\n",
      "\u001b[36mFile \u001b[39m\u001b[32m/Library/Frameworks/Python.framework/Versions/3.13/lib/python3.13/site-packages/torch/nn/functional.py:3494\u001b[39m, in \u001b[36mcross_entropy\u001b[39m\u001b[34m(input, target, weight, size_average, ignore_index, reduce, reduction, label_smoothing)\u001b[39m\n\u001b[32m   3492\u001b[39m \u001b[38;5;28;01mif\u001b[39;00m size_average \u001b[38;5;129;01mis\u001b[39;00m \u001b[38;5;129;01mnot\u001b[39;00m \u001b[38;5;28;01mNone\u001b[39;00m \u001b[38;5;129;01mor\u001b[39;00m reduce \u001b[38;5;129;01mis\u001b[39;00m \u001b[38;5;129;01mnot\u001b[39;00m \u001b[38;5;28;01mNone\u001b[39;00m:\n\u001b[32m   3493\u001b[39m     reduction = _Reduction.legacy_get_string(size_average, reduce)\n\u001b[32m-> \u001b[39m\u001b[32m3494\u001b[39m \u001b[38;5;28;01mreturn\u001b[39;00m \u001b[43mtorch\u001b[49m\u001b[43m.\u001b[49m\u001b[43m_C\u001b[49m\u001b[43m.\u001b[49m\u001b[43m_nn\u001b[49m\u001b[43m.\u001b[49m\u001b[43mcross_entropy_loss\u001b[49m\u001b[43m(\u001b[49m\n\u001b[32m   3495\u001b[39m \u001b[43m    \u001b[49m\u001b[38;5;28;43minput\u001b[39;49m\u001b[43m,\u001b[49m\n\u001b[32m   3496\u001b[39m \u001b[43m    \u001b[49m\u001b[43mtarget\u001b[49m\u001b[43m,\u001b[49m\n\u001b[32m   3497\u001b[39m \u001b[43m    \u001b[49m\u001b[43mweight\u001b[49m\u001b[43m,\u001b[49m\n\u001b[32m   3498\u001b[39m \u001b[43m    \u001b[49m\u001b[43m_Reduction\u001b[49m\u001b[43m.\u001b[49m\u001b[43mget_enum\u001b[49m\u001b[43m(\u001b[49m\u001b[43mreduction\u001b[49m\u001b[43m)\u001b[49m\u001b[43m,\u001b[49m\n\u001b[32m   3499\u001b[39m \u001b[43m    \u001b[49m\u001b[43mignore_index\u001b[49m\u001b[43m,\u001b[49m\n\u001b[32m   3500\u001b[39m \u001b[43m    \u001b[49m\u001b[43mlabel_smoothing\u001b[49m\u001b[43m,\u001b[49m\n\u001b[32m   3501\u001b[39m \u001b[43m\u001b[49m\u001b[43m)\u001b[49m\n",
      "\u001b[31mTypeError\u001b[39m: cross_entropy_loss(): argument 'input' (position 1) must be Tensor, not NoneType"
     ]
    }
   ],
   "source": [
    "# Train model, determining how many epochs needed. Epoch = 1 run through the entire network\n",
    "epoch = 1000\n",
    "losses = [] # to keep track of the losses to track progress\n",
    "for i in range(epoch):\n",
    "  # Go forward and get prediciton\n",
    "  y_pred = model.forward(X_train) # using the features to move forward and get predicitive results\n",
    "\n",
    "  # Measure the loss\n",
    "  loss = criterion(y_pred, y_train) # predicted value vs y-train value\n",
    "  losses.append(loss.detach().numpy())\n",
    "\n",
    "  if i % 100 == 0:\n",
    "    print(f'{epoch}: {i} and the loss is {loss}')\n",
    "\n",
    "  # Back propogation = take the error rate of the forward propogation and feed it back through the neural network to tweak the weights\n",
    "  optimiser.zero_grad() # Clears the old gradient values, ensuring gradients from the previous iterations don’t accumulate.\n",
    "  loss.backward() # Performs backpropagation to calculate the new gradients of the loss with respect to each parameter (weights)\n",
    "  optimiser.step() # Uses the calculated gradients to update the model's parameters, moving them toward values that minimize the loss"
   ]
  },
  {
   "cell_type": "code",
   "execution_count": null,
   "id": "6ec35228",
   "metadata": {},
   "outputs": [],
   "source": [
    "plt.plot(range(epoch), losses) # y-axis = losses\n",
    "plt.ylabel(\"Loss/error\")\n",
    "plt.xlabel(\"Epoch\")\n",
    "plt.show()"
   ]
  },
  {
   "cell_type": "code",
   "execution_count": null,
   "id": "54a0b1e5",
   "metadata": {},
   "outputs": [],
   "source": [
    "# Evaluate deep learning results on our test data\n",
    "with torch.no_grad():\n",
    "   #turns off back propogation\n",
    "   y_eval = model.forward(X_test) # testing the model on the new dataset, features from test set on predictions\n",
    "   loss = criterion(y_eval, y_test) # find the loss error"
   ]
  },
  {
   "cell_type": "code",
   "execution_count": null,
   "id": "f7c32bcd",
   "metadata": {},
   "outputs": [],
   "source": [
    "loss"
   ]
  },
  {
   "cell_type": "code",
   "execution_count": null,
   "id": "63743cab",
   "metadata": {},
   "outputs": [],
   "source": [
    "correct = 0\n",
    "diff = []\n",
    "with torch.no_grad():\n",
    "  for i, data in enumerate(X_test): #features test set\n",
    "    y_val = model.forward(data) #outcome of testing\n",
    "\n",
    "    # tells us what type of flower out network thinks it is\n",
    "\n",
    "    print(f'{i+1}.) {str(y_val)} \\t {y_test[i]} \\t {y_val.argmax().item()}') # compares feature test to target test\n",
    "\n",
    "    # correct or not\n",
    "    if y_val.argmax().item() == y_test[i]: # if the index of the max tensor in the feature test == target test value\n",
    "      correct +=1\n",
    "\n",
    "    x = abs((y_val.argmax().item() - y_test[i]))\n",
    "    diff.append(x)\n",
    "\n",
    "print(f'We got {correct} correct!. Accuracy: {correct}/{len(y_test)} ({((correct/y_test.size(0))*100):.2f}%)')\n",
    "print(f'The mean difference between predicted and actual quality: {sum(diff) / len(diff):.4f}')"
   ]
  },
  {
   "cell_type": "code",
   "execution_count": null,
   "id": "c8b134de",
   "metadata": {},
   "outputs": [],
   "source": []
  }
 ],
 "metadata": {
  "kernelspec": {
   "display_name": "Python 3",
   "language": "python",
   "name": "python3"
  },
  "language_info": {
   "codemirror_mode": {
    "name": "ipython",
    "version": 3
   },
   "file_extension": ".py",
   "mimetype": "text/x-python",
   "name": "python",
   "nbconvert_exporter": "python",
   "pygments_lexer": "ipython3",
   "version": "3.13.5"
  }
 },
 "nbformat": 4,
 "nbformat_minor": 5
}
